{
  "nbformat": 4,
  "nbformat_minor": 0,
  "metadata": {
    "colab": {
      "provenance": []
    },
    "kernelspec": {
      "name": "python3",
      "display_name": "Python 3"
    },
    "language_info": {
      "name": "python"
    }
  },
  "cells": [
    {
      "cell_type": "code",
      "execution_count": 2,
      "metadata": {
        "colab": {
          "base_uri": "https://localhost:8080/"
        },
        "id": "MUoZWGRirUnc",
        "outputId": "595c1484-4173-40ec-e98a-cd5c8489fdbc"
      },
      "outputs": [
        {
          "output_type": "stream",
          "name": "stdout",
          "text": [
            "First 5 rows:\n",
            "     ID  Year_Birth   Education Marital_Status   Income  Kidhome  Teenhome  \\\n",
            "0  5524        1957  Graduation         Single  58138.0        0         0   \n",
            "1  2174        1954  Graduation         Single  46344.0        1         1   \n",
            "2  4141        1965  Graduation       Together  71613.0        0         0   \n",
            "3  6182        1984  Graduation       Together  26646.0        1         0   \n",
            "4  5324        1981         PhD        Married  58293.0        1         0   \n",
            "\n",
            "  Dt_Customer  Recency  MntWines  ...  NumWebVisitsMonth  AcceptedCmp3  \\\n",
            "0  04-09-2012       58       635  ...                  7             0   \n",
            "1  08-03-2014       38        11  ...                  5             0   \n",
            "2  21-08-2013       26       426  ...                  4             0   \n",
            "3  10-02-2014       26        11  ...                  6             0   \n",
            "4  19-01-2014       94       173  ...                  5             0   \n",
            "\n",
            "   AcceptedCmp4  AcceptedCmp5  AcceptedCmp1  AcceptedCmp2  Complain  \\\n",
            "0             0             0             0             0         0   \n",
            "1             0             0             0             0         0   \n",
            "2             0             0             0             0         0   \n",
            "3             0             0             0             0         0   \n",
            "4             0             0             0             0         0   \n",
            "\n",
            "   Z_CostContact  Z_Revenue  Response  \n",
            "0              3         11         1  \n",
            "1              3         11         0  \n",
            "2              3         11         0  \n",
            "3              3         11         0  \n",
            "4              3         11         0  \n",
            "\n",
            "[5 rows x 29 columns]\n",
            "\n",
            "Dataset Info:\n",
            "<class 'pandas.core.frame.DataFrame'>\n",
            "RangeIndex: 2240 entries, 0 to 2239\n",
            "Data columns (total 29 columns):\n",
            " #   Column               Non-Null Count  Dtype  \n",
            "---  ------               --------------  -----  \n",
            " 0   ID                   2240 non-null   int64  \n",
            " 1   Year_Birth           2240 non-null   int64  \n",
            " 2   Education            2240 non-null   object \n",
            " 3   Marital_Status       2240 non-null   object \n",
            " 4   Income               2216 non-null   float64\n",
            " 5   Kidhome              2240 non-null   int64  \n",
            " 6   Teenhome             2240 non-null   int64  \n",
            " 7   Dt_Customer          2240 non-null   object \n",
            " 8   Recency              2240 non-null   int64  \n",
            " 9   MntWines             2240 non-null   int64  \n",
            " 10  MntFruits            2240 non-null   int64  \n",
            " 11  MntMeatProducts      2240 non-null   int64  \n",
            " 12  MntFishProducts      2240 non-null   int64  \n",
            " 13  MntSweetProducts     2240 non-null   int64  \n",
            " 14  MntGoldProds         2240 non-null   int64  \n",
            " 15  NumDealsPurchases    2240 non-null   int64  \n",
            " 16  NumWebPurchases      2240 non-null   int64  \n",
            " 17  NumCatalogPurchases  2240 non-null   int64  \n",
            " 18  NumStorePurchases    2240 non-null   int64  \n",
            " 19  NumWebVisitsMonth    2240 non-null   int64  \n",
            " 20  AcceptedCmp3         2240 non-null   int64  \n",
            " 21  AcceptedCmp4         2240 non-null   int64  \n",
            " 22  AcceptedCmp5         2240 non-null   int64  \n",
            " 23  AcceptedCmp1         2240 non-null   int64  \n",
            " 24  AcceptedCmp2         2240 non-null   int64  \n",
            " 25  Complain             2240 non-null   int64  \n",
            " 26  Z_CostContact        2240 non-null   int64  \n",
            " 27  Z_Revenue            2240 non-null   int64  \n",
            " 28  Response             2240 non-null   int64  \n",
            "dtypes: float64(1), int64(25), object(3)\n",
            "memory usage: 507.6+ KB\n",
            "\n",
            "Descriptive Statistics:\n",
            "                 ID   Year_Birth         Income      Kidhome     Teenhome  \\\n",
            "count   2240.000000  2240.000000    2216.000000  2240.000000  2240.000000   \n",
            "mean    5592.159821  1968.805804   52247.251354     0.444196     0.506250   \n",
            "std     3246.662198    11.984069   25173.076661     0.538398     0.544538   \n",
            "min        0.000000  1893.000000    1730.000000     0.000000     0.000000   \n",
            "25%     2828.250000  1959.000000   35303.000000     0.000000     0.000000   \n",
            "50%     5458.500000  1970.000000   51381.500000     0.000000     0.000000   \n",
            "75%     8427.750000  1977.000000   68522.000000     1.000000     1.000000   \n",
            "max    11191.000000  1996.000000  666666.000000     2.000000     2.000000   \n",
            "\n",
            "           Recency     MntWines    MntFruits  MntMeatProducts  \\\n",
            "count  2240.000000  2240.000000  2240.000000      2240.000000   \n",
            "mean     49.109375   303.935714    26.302232       166.950000   \n",
            "std      28.962453   336.597393    39.773434       225.715373   \n",
            "min       0.000000     0.000000     0.000000         0.000000   \n",
            "25%      24.000000    23.750000     1.000000        16.000000   \n",
            "50%      49.000000   173.500000     8.000000        67.000000   \n",
            "75%      74.000000   504.250000    33.000000       232.000000   \n",
            "max      99.000000  1493.000000   199.000000      1725.000000   \n",
            "\n",
            "       MntFishProducts  ...  NumWebVisitsMonth  AcceptedCmp3  AcceptedCmp4  \\\n",
            "count      2240.000000  ...        2240.000000   2240.000000   2240.000000   \n",
            "mean         37.525446  ...           5.316518      0.072768      0.074554   \n",
            "std          54.628979  ...           2.426645      0.259813      0.262728   \n",
            "min           0.000000  ...           0.000000      0.000000      0.000000   \n",
            "25%           3.000000  ...           3.000000      0.000000      0.000000   \n",
            "50%          12.000000  ...           6.000000      0.000000      0.000000   \n",
            "75%          50.000000  ...           7.000000      0.000000      0.000000   \n",
            "max         259.000000  ...          20.000000      1.000000      1.000000   \n",
            "\n",
            "       AcceptedCmp5  AcceptedCmp1  AcceptedCmp2     Complain  Z_CostContact  \\\n",
            "count   2240.000000   2240.000000   2240.000000  2240.000000         2240.0   \n",
            "mean       0.072768      0.064286      0.013393     0.009375            3.0   \n",
            "std        0.259813      0.245316      0.114976     0.096391            0.0   \n",
            "min        0.000000      0.000000      0.000000     0.000000            3.0   \n",
            "25%        0.000000      0.000000      0.000000     0.000000            3.0   \n",
            "50%        0.000000      0.000000      0.000000     0.000000            3.0   \n",
            "75%        0.000000      0.000000      0.000000     0.000000            3.0   \n",
            "max        1.000000      1.000000      1.000000     1.000000            3.0   \n",
            "\n",
            "       Z_Revenue     Response  \n",
            "count     2240.0  2240.000000  \n",
            "mean        11.0     0.149107  \n",
            "std          0.0     0.356274  \n",
            "min         11.0     0.000000  \n",
            "25%         11.0     0.000000  \n",
            "50%         11.0     0.000000  \n",
            "75%         11.0     0.000000  \n",
            "max         11.0     1.000000  \n",
            "\n",
            "[8 rows x 26 columns]\n"
          ]
        }
      ],
      "source": [
        "# Import the pandas library\n",
        "import pandas as pd\n",
        "\n",
        "# Load the dataset\n",
        "df = pd.read_csv('marketing_campaign.csv', sep='\\t')\n",
        "\n",
        "# 1. See the first 5 rows\n",
        "print(\"First 5 rows:\")\n",
        "print(df.head())\n",
        "\n",
        "# 2. Get a summary of all columns, data types, and null values\n",
        "print(\"\\nDataset Info:\")\n",
        "df.info()\n",
        "\n",
        "# 3. Get descriptive statistics for numerical columns\n",
        "print(\"\\nDescriptive Statistics:\")\n",
        "print(df.describe())"
      ]
    },
    {
      "cell_type": "code",
      "source": [
        "# Create a dictionary to rename specific long columns for clarity\n",
        "rename_dict = {\n",
        "    'MntWines': 'mnt_wines',\n",
        "    'MntFruits': 'mnt_fruits',\n",
        "    'MntMeatProducts': 'mnt_meat',\n",
        "    'MntFishProducts': 'mnt_fish',\n",
        "    'MntSweetProducts': 'mnt_sweet',\n",
        "    'MntGoldProds': 'mnt_gold'\n",
        "}\n",
        "\n",
        "df.rename(columns=rename_dict, inplace=True)\n",
        "\n",
        "# Make all other column names lowercase for consistency\n",
        "df.columns = df.columns.str.lower()\n",
        "\n",
        "print(\"Cleaned Column Names:\")\n",
        "print(df.columns)\n",
        "print(df.head)"
      ],
      "metadata": {
        "colab": {
          "base_uri": "https://localhost:8080/"
        },
        "id": "QQj-iFjNvjq5",
        "outputId": "3159a78a-3802-4dc0-fac8-becef3fb85a2"
      },
      "execution_count": 5,
      "outputs": [
        {
          "output_type": "stream",
          "name": "stdout",
          "text": [
            "Cleaned Column Names:\n",
            "Index(['id', 'year_birth', 'education', 'marital_status', 'income', 'kidhome',\n",
            "       'teenhome', 'dt_customer', 'recency', 'mnt_wines', 'mnt_fruits',\n",
            "       'mnt_meat', 'mnt_fish', 'mnt_sweet', 'mnt_gold', 'numdealspurchases',\n",
            "       'numwebpurchases', 'numcatalogpurchases', 'numstorepurchases',\n",
            "       'numwebvisitsmonth', 'acceptedcmp3', 'acceptedcmp4', 'acceptedcmp5',\n",
            "       'acceptedcmp1', 'acceptedcmp2', 'complain', 'z_costcontact',\n",
            "       'z_revenue', 'response'],\n",
            "      dtype='object')\n",
            "<bound method NDFrame.head of          id  year_birth   education marital_status   income  kidhome  \\\n",
            "0      5524        1957  Graduation         Single  58138.0        0   \n",
            "1      2174        1954  Graduation         Single  46344.0        1   \n",
            "2      4141        1965  Graduation       Together  71613.0        0   \n",
            "3      6182        1984  Graduation       Together  26646.0        1   \n",
            "4      5324        1981         PhD        Married  58293.0        1   \n",
            "...     ...         ...         ...            ...      ...      ...   \n",
            "2235  10870        1967  Graduation        Married  61223.0        0   \n",
            "2236   4001        1946         PhD       Together  64014.0        2   \n",
            "2237   7270        1981  Graduation       Divorced  56981.0        0   \n",
            "2238   8235        1956      Master       Together  69245.0        0   \n",
            "2239   9405        1954         PhD        Married  52869.0        1   \n",
            "\n",
            "      teenhome dt_customer  recency  mnt_wines  ...  numwebvisitsmonth  \\\n",
            "0            0  04-09-2012       58        635  ...                  7   \n",
            "1            1  08-03-2014       38         11  ...                  5   \n",
            "2            0  21-08-2013       26        426  ...                  4   \n",
            "3            0  10-02-2014       26         11  ...                  6   \n",
            "4            0  19-01-2014       94        173  ...                  5   \n",
            "...        ...         ...      ...        ...  ...                ...   \n",
            "2235         1  13-06-2013       46        709  ...                  5   \n",
            "2236         1  10-06-2014       56        406  ...                  7   \n",
            "2237         0  25-01-2014       91        908  ...                  6   \n",
            "2238         1  24-01-2014        8        428  ...                  3   \n",
            "2239         1  15-10-2012       40         84  ...                  7   \n",
            "\n",
            "      acceptedcmp3  acceptedcmp4  acceptedcmp5  acceptedcmp1  acceptedcmp2  \\\n",
            "0                0             0             0             0             0   \n",
            "1                0             0             0             0             0   \n",
            "2                0             0             0             0             0   \n",
            "3                0             0             0             0             0   \n",
            "4                0             0             0             0             0   \n",
            "...            ...           ...           ...           ...           ...   \n",
            "2235             0             0             0             0             0   \n",
            "2236             0             0             0             1             0   \n",
            "2237             0             1             0             0             0   \n",
            "2238             0             0             0             0             0   \n",
            "2239             0             0             0             0             0   \n",
            "\n",
            "      complain  z_costcontact  z_revenue  response  \n",
            "0            0              3         11         1  \n",
            "1            0              3         11         0  \n",
            "2            0              3         11         0  \n",
            "3            0              3         11         0  \n",
            "4            0              3         11         0  \n",
            "...        ...            ...        ...       ...  \n",
            "2235         0              3         11         0  \n",
            "2236         0              3         11         0  \n",
            "2237         0              3         11         0  \n",
            "2238         0              3         11         0  \n",
            "2239         0              3         11         1  \n",
            "\n",
            "[2240 rows x 29 columns]>\n"
          ]
        }
      ]
    },
    {
      "cell_type": "code",
      "source": [
        "# Calculate the median income\n",
        "median_income = df['income'].median()\n",
        "\n",
        "# Fill missing values (NaNs) in the 'income' column with the median\n",
        "df['income'].fillna(median_income, inplace=True)\n",
        "\n",
        "# Verify that there are no more missing values in the income column\n",
        "print(\"\\nMissing values in 'income' after filling:\")\n",
        "print(df['income'].isnull().sum())"
      ],
      "metadata": {
        "colab": {
          "base_uri": "https://localhost:8080/"
        },
        "id": "QIzXgaWnvkak",
        "outputId": "5f8a02da-a0dd-4030-ea1a-75ce2fe7104f"
      },
      "execution_count": 6,
      "outputs": [
        {
          "output_type": "stream",
          "name": "stdout",
          "text": [
            "\n",
            "Missing values in 'income' after filling:\n",
            "0\n"
          ]
        },
        {
          "output_type": "stream",
          "name": "stderr",
          "text": [
            "/tmp/ipython-input-639757913.py:5: FutureWarning: A value is trying to be set on a copy of a DataFrame or Series through chained assignment using an inplace method.\n",
            "The behavior will change in pandas 3.0. This inplace method will never work because the intermediate object on which we are setting values always behaves as a copy.\n",
            "\n",
            "For example, when doing 'df[col].method(value, inplace=True)', try using 'df.method({col: value}, inplace=True)' or df[col] = df[col].method(value) instead, to perform the operation inplace on the original object.\n",
            "\n",
            "\n",
            "  df['income'].fillna(median_income, inplace=True)\n"
          ]
        }
      ]
    },
    {
      "cell_type": "code",
      "source": [
        "# Check for duplicate rows before removal\n",
        "print(f\"\\nNumber of duplicate rows before removal: {df.duplicated().sum()}\")\n",
        "\n",
        "# Remove duplicate rows\n",
        "df.drop_duplicates(inplace=True)\n",
        "\n",
        "# Check for duplicate rows after removal\n",
        "print(f\"Number of duplicate rows after removal: {df.duplicated().sum()}\")"
      ],
      "metadata": {
        "colab": {
          "base_uri": "https://localhost:8080/"
        },
        "id": "CqjUW4q-v1Rd",
        "outputId": "46c5f947-18e7-4aff-b72e-a7dc3a133a04"
      },
      "execution_count": 7,
      "outputs": [
        {
          "output_type": "stream",
          "name": "stdout",
          "text": [
            "\n",
            "Number of duplicate rows before removal: 0\n",
            "Number of duplicate rows after removal: 0\n"
          ]
        }
      ]
    },
    {
      "cell_type": "code",
      "source": [
        "# Convert 'dt_customer' from object to datetime format, specifying the format\n",
        "df['dt_customer'] = pd.to_datetime(df['dt_customer'], format='%d-%m-%Y')\n",
        "\n",
        "# Standardize 'education' and 'marital_status' text to be more uniform (optional but good practice)\n",
        "df['education'] = df['education'].replace({'Graduation': 'Graduate', 'PhD': 'Post-Graduate', 'Master': 'Post-Graduate', '2n Cycle': 'Graduate', 'Basic': 'Undergraduate'})\n",
        "\n",
        "# Verify the changes in data types\n",
        "print(\"\\nData types after correction:\")\n",
        "df.info()"
      ],
      "metadata": {
        "colab": {
          "base_uri": "https://localhost:8080/"
        },
        "id": "x5yaFARZwGJV",
        "outputId": "b6d39419-941b-41cf-a2f6-2e31dd61f5bf"
      },
      "execution_count": 9,
      "outputs": [
        {
          "output_type": "stream",
          "name": "stdout",
          "text": [
            "\n",
            "Data types after correction:\n",
            "<class 'pandas.core.frame.DataFrame'>\n",
            "RangeIndex: 2240 entries, 0 to 2239\n",
            "Data columns (total 29 columns):\n",
            " #   Column               Non-Null Count  Dtype         \n",
            "---  ------               --------------  -----         \n",
            " 0   id                   2240 non-null   int64         \n",
            " 1   year_birth           2240 non-null   int64         \n",
            " 2   education            2240 non-null   object        \n",
            " 3   marital_status       2240 non-null   object        \n",
            " 4   income               2240 non-null   float64       \n",
            " 5   kidhome              2240 non-null   int64         \n",
            " 6   teenhome             2240 non-null   int64         \n",
            " 7   dt_customer          2240 non-null   datetime64[ns]\n",
            " 8   recency              2240 non-null   int64         \n",
            " 9   mnt_wines            2240 non-null   int64         \n",
            " 10  mnt_fruits           2240 non-null   int64         \n",
            " 11  mnt_meat             2240 non-null   int64         \n",
            " 12  mnt_fish             2240 non-null   int64         \n",
            " 13  mnt_sweet            2240 non-null   int64         \n",
            " 14  mnt_gold             2240 non-null   int64         \n",
            " 15  numdealspurchases    2240 non-null   int64         \n",
            " 16  numwebpurchases      2240 non-null   int64         \n",
            " 17  numcatalogpurchases  2240 non-null   int64         \n",
            " 18  numstorepurchases    2240 non-null   int64         \n",
            " 19  numwebvisitsmonth    2240 non-null   int64         \n",
            " 20  acceptedcmp3         2240 non-null   int64         \n",
            " 21  acceptedcmp4         2240 non-null   int64         \n",
            " 22  acceptedcmp5         2240 non-null   int64         \n",
            " 23  acceptedcmp1         2240 non-null   int64         \n",
            " 24  acceptedcmp2         2240 non-null   int64         \n",
            " 25  complain             2240 non-null   int64         \n",
            " 26  z_costcontact        2240 non-null   int64         \n",
            " 27  z_revenue            2240 non-null   int64         \n",
            " 28  response             2240 non-null   int64         \n",
            "dtypes: datetime64[ns](1), float64(1), int64(25), object(2)\n",
            "memory usage: 507.6+ KB\n"
          ]
        }
      ]
    },
    {
      "cell_type": "code",
      "source": [
        "# Save the cleaned data to a new file, without the index column\n",
        "df.to_csv('cleaned_customer_data.csv', index=False)\n",
        "print(\"\\nCleaned dataset saved as 'cleaned_customer_data.csv'\")"
      ],
      "metadata": {
        "colab": {
          "base_uri": "https://localhost:8080/"
        },
        "id": "ptTM1CUOwPX6",
        "outputId": "632f57f7-880d-43b1-fcda-de75ee41dd05"
      },
      "execution_count": 10,
      "outputs": [
        {
          "output_type": "stream",
          "name": "stdout",
          "text": [
            "\n",
            "Cleaned dataset saved as 'cleaned_customer_data.csv'\n"
          ]
        }
      ]
    },
    {
      "cell_type": "code",
      "metadata": {
        "colab": {
          "base_uri": "https://localhost:8080/",
          "height": 17
        },
        "id": "b6c8d05b",
        "outputId": "be62d5bf-135a-4ee8-da98-74386474ff2b"
      },
      "source": [
        "from google.colab import files\n",
        "\n",
        "files.download('cleaned_customer_data.csv')"
      ],
      "execution_count": 11,
      "outputs": [
        {
          "output_type": "display_data",
          "data": {
            "text/plain": [
              "<IPython.core.display.Javascript object>"
            ],
            "application/javascript": [
              "\n",
              "    async function download(id, filename, size) {\n",
              "      if (!google.colab.kernel.accessAllowed) {\n",
              "        return;\n",
              "      }\n",
              "      const div = document.createElement('div');\n",
              "      const label = document.createElement('label');\n",
              "      label.textContent = `Downloading \"${filename}\": `;\n",
              "      div.appendChild(label);\n",
              "      const progress = document.createElement('progress');\n",
              "      progress.max = size;\n",
              "      div.appendChild(progress);\n",
              "      document.body.appendChild(div);\n",
              "\n",
              "      const buffers = [];\n",
              "      let downloaded = 0;\n",
              "\n",
              "      const channel = await google.colab.kernel.comms.open(id);\n",
              "      // Send a message to notify the kernel that we're ready.\n",
              "      channel.send({})\n",
              "\n",
              "      for await (const message of channel.messages) {\n",
              "        // Send a message to notify the kernel that we're ready.\n",
              "        channel.send({})\n",
              "        if (message.buffers) {\n",
              "          for (const buffer of message.buffers) {\n",
              "            buffers.push(buffer);\n",
              "            downloaded += buffer.byteLength;\n",
              "            progress.value = downloaded;\n",
              "          }\n",
              "        }\n",
              "      }\n",
              "      const blob = new Blob(buffers, {type: 'application/binary'});\n",
              "      const a = document.createElement('a');\n",
              "      a.href = window.URL.createObjectURL(blob);\n",
              "      a.download = filename;\n",
              "      div.appendChild(a);\n",
              "      a.click();\n",
              "      div.remove();\n",
              "    }\n",
              "  "
            ]
          },
          "metadata": {}
        },
        {
          "output_type": "display_data",
          "data": {
            "text/plain": [
              "<IPython.core.display.Javascript object>"
            ],
            "application/javascript": [
              "download(\"download_51756cc0-21dd-483f-8b27-542d0d3dfd33\", \"cleaned_customer_data.csv\", 228152)"
            ]
          },
          "metadata": {}
        }
      ]
    },
    {
      "cell_type": "code",
      "source": [],
      "metadata": {
        "id": "CYho3VGQwy_e"
      },
      "execution_count": null,
      "outputs": []
    }
  ]
}